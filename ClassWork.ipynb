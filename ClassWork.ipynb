{
 "cells": [
  {
   "cell_type": "markdown",
   "metadata": {},
   "source": [
    "Create a Python class called Student with attributes name, grades(list) and method_grade() that calculates and returns the average of student."
   ]
  },
  {
   "cell_type": "code",
   "execution_count": 1,
   "metadata": {},
   "outputs": [
    {
     "name": "stdout",
     "output_type": "stream",
     "text": [
      "Krish's average grade: 25.0\n"
     ]
    }
   ],
   "source": [
    "class Student:\n",
    "     def __init__(self, name, grades):\n",
    "          self.name = name\n",
    "          self.grades = grades\n",
    "\n",
    "     def method_grade(self):\n",
    "          return sum(self.grades) / len(self.grades)\n",
    "     \n",
    "     \n",
    "std1 = Student(\"Krish\", [10, 20, 30, 40])\n",
    "\n",
    "print(f\"{std1.name}'s average grade: {std1.method_grade()}\")"
   ]
  },
  {
   "cell_type": "markdown",
   "metadata": {},
   "source": [
    "Create a class Book with attributes title and author. Set default values for both and allow users to override them during object creation."
   ]
  },
  {
   "cell_type": "code",
   "execution_count": 8,
   "metadata": {},
   "outputs": [
    {
     "name": "stdout",
     "output_type": "stream",
     "text": [
      "Book: The Thousand splendid of sun \n",
      "Author: Khaled Hossini\n"
     ]
    }
   ],
   "source": [
    "class Book:\n",
    "    def record(self, title=\"Unknown Title\", author=\"Unknown Author\"):\n",
    "        self.title = title\n",
    "        self.author = author\n",
    "\n",
    "    def display(self):\n",
    "        print(f\"Book: {self.title} \\nAuthor: {self.author}\")\n",
    "\n",
    "bookss = Book()\n",
    "bookss.record(\"The Thousand splendid of sun\", \"Khaled Hossini\")\n",
    "bookss.display()"
   ]
  },
  {
   "cell_type": "markdown",
   "metadata": {},
   "source": [
    "Create a Python class called Employee with attributes name, salary, and a method display() that prints all the details both methods: \n",
    "1. Ask user  2. Parameter passing"
   ]
  },
  {
   "cell_type": "code",
   "execution_count": null,
   "metadata": {},
   "outputs": [
    {
     "name": "stdout",
     "output_type": "stream",
     "text": [
      "Name: Krish , Salary: 100000.0\n",
      "Name: Alice, Salary: 95000\n"
     ]
    }
   ],
   "source": [
    "class Employee:\n",
    "     def __init__(self, name, salary):\n",
    "          self.name = name\n",
    "          self.salary = salary \n",
    "\n",
    "     def method_display(self):\n",
    "          print(f\"Name: {self.name}, Salary: {self.salary}\")\n",
    "\n",
    "emp1 = Employee(input(\"Enter your name: \"),float(input(\"Enter Employee's Salary: \"))) \n",
    "emp1.method_display()\n",
    "\n",
    "emp2 = Employee(\"Alice\", 95000)\n",
    "emp2.method_display()\n",
    "\n",
    "\n"
   ]
  },
  {
   "cell_type": "code",
   "execution_count": null,
   "metadata": {},
   "outputs": [],
   "source": []
  }
 ],
 "metadata": {
  "kernelspec": {
   "display_name": "Python 3",
   "language": "python",
   "name": "python3"
  },
  "language_info": {
   "codemirror_mode": {
    "name": "ipython",
    "version": 3
   },
   "file_extension": ".py",
   "mimetype": "text/x-python",
   "name": "python",
   "nbconvert_exporter": "python",
   "pygments_lexer": "ipython3",
   "version": "3.13.1"
  }
 },
 "nbformat": 4,
 "nbformat_minor": 2
}
