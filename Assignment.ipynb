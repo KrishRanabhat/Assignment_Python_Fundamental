{
 "cells": [
  {
   "cell_type": "markdown",
   "metadata": {},
   "source": [
    "# Assignment: Python Fundamental\n"
   ]
  },
  {
   "cell_type": "markdown",
   "metadata": {},
   "source": [
    "#### 1. Write a program that asks the user to enter a number and checks whether the number is even or odd."
   ]
  },
  {
   "cell_type": "code",
   "execution_count": 1,
   "metadata": {},
   "outputs": [
    {
     "name": "stdout",
     "output_type": "stream",
     "text": [
      "5 is an odd number. \n"
     ]
    }
   ],
   "source": [
    "num = int(input(\"Enter a number: \"))\n",
    "\n",
    "if num % 2 == 0:\n",
    "     print(f\"{num} is a even number.\")\n",
    "else:\n",
    "     print(f\"{num} is an odd number. \")\n",
    "     "
   ]
  },
  {
   "cell_type": "markdown",
   "metadata": {},
   "source": [
    "#### 2. Write a program that asks the user to enter a number and checks whether it is positive, negative, or zero."
   ]
  },
  {
   "cell_type": "code",
   "execution_count": 4,
   "metadata": {},
   "outputs": [
    {
     "name": "stdout",
     "output_type": "stream",
     "text": [
      "-2 is a negative number.\n"
     ]
    }
   ],
   "source": [
    "num = int(input(\"Enter a number: \"))\n",
    "\n",
    "if num > 0:\n",
    "     print(f\"{num} is a positive number.\")\n",
    "elif num < 0:\n",
    "     print(f\"{num} is a negative number.\")\n",
    "else:\n",
    "     print(f\"Your number is zero: {num}\")"
   ]
  },
  {
   "cell_type": "markdown",
   "metadata": {},
   "source": [
    "#### 3. Write a program that asks the user to enter their age and checks if they are eligible to vote (18 years or older)."
   ]
  },
  {
   "cell_type": "code",
   "execution_count": 12,
   "metadata": {},
   "outputs": [
    {
     "name": "stdout",
     "output_type": "stream",
     "text": [
      "You are eligible to Vote.\n"
     ]
    }
   ],
   "source": [
    "age = int(input(\"Enter Your Age: \"))\n",
    "\n",
    "if age >= 18:\n",
    "     print(\"You are eligible to Vote.\")\n",
    "else:\n",
    "     print(\"Sorry!, You are ineligible to Vote.\")"
   ]
  },
  {
   "cell_type": "markdown",
   "metadata": {},
   "source": [
    "#### 4. Write a program that takes the lengths of three sides of a triangle as input and determines if the triangle is:\n",
    "##### (a) Equilateral (all sides are equal)\n",
    "##### (b) Isosceles (two sides are equal)\n",
    "##### (c) Scalene (all sides are different)"
   ]
  },
  {
   "cell_type": "code",
   "execution_count": 23,
   "metadata": {},
   "outputs": [
    {
     "name": "stdout",
     "output_type": "stream",
     "text": [
      "The Triangle is an Isosceles Triangle.\n"
     ]
    }
   ],
   "source": [
    "side1 = float(input(\"Enter the length of First side of a Triangle: \"))\n",
    "side2 = float(input(\"Enter the length of Second side of a Triangle: \"))\n",
    "side3 = float(input(\"Enter the length of Third side of a Triangle: \"))\n",
    "\n",
    "if side1 == side2 == side3:\n",
    "     print(\"The Triangle is an Equilateral Triangle.\")\n",
    "\n",
    "elif ((side1 == side2) != side3) and ((side2==side3)!=side1) and ((side1 == side3) != side2):\n",
    "     print(\"The Triangle is an Isosceles Triangle.\")\n",
    "     \n",
    "else:\n",
    "     print(\"The Triangle is a Scalane.\")\n",
    "\n",
    "\n"
   ]
  },
  {
   "cell_type": "markdown",
   "metadata": {},
   "source": [
    "#### 5. Write a program that asks the user to enter a password and checks if it matches a predefined password (eg., \"Python123\")."
   ]
  },
  {
   "cell_type": "code",
   "execution_count": 26,
   "metadata": {},
   "outputs": [
    {
     "name": "stdout",
     "output_type": "stream",
     "text": [
      "Password Matched!\n"
     ]
    }
   ],
   "source": [
    "Pre_defined_password = \"Python123\"\n",
    "\n",
    "User_password = str(input(\"Enter the password: \"))\n",
    "\n",
    "if Pre_defined_password == User_password:\n",
    "     print(\"Password Matched!\")\n",
    "else:\n",
    "     print(\"Incorrect Password!\")\n"
   ]
  },
  {
   "cell_type": "markdown",
   "metadata": {},
   "source": [
    "# Section 2: For Loops"
   ]
  },
  {
   "cell_type": "markdown",
   "metadata": {},
   "source": [
    "#### 1. Multiplication Table: Write a Python program to print the multiplication table of a given number using a for loop.\n",
    "##### Example:\n",
    "##### (a) Input: 5\n",
    "##### (b) Output: 5, 10, 15, ..., 50"
   ]
  },
  {
   "cell_type": "code",
   "execution_count": 41,
   "metadata": {},
   "outputs": [
    {
     "name": "stdout",
     "output_type": "stream",
     "text": [
      "5\n",
      "10\n",
      "15\n",
      "20\n",
      "25\n",
      "30\n",
      "35\n",
      "40\n",
      "45\n",
      "50\n"
     ]
    }
   ],
   "source": [
    "for i in range(5, 51, 5):\n",
    "     print(i)"
   ]
  },
  {
   "cell_type": "markdown",
   "metadata": {},
   "source": [
    "#### 2. Count Vowels: Write a program to count and display the number of vowels in a given string."
   ]
  },
  {
   "cell_type": "code",
   "execution_count": 16,
   "metadata": {},
   "outputs": [
    {
     "name": "stdout",
     "output_type": "stream",
     "text": [
      "The vowel count for Hello World is 3.\n"
     ]
    }
   ],
   "source": [
    "vowels = \"aeiouAEIOU\"\n",
    "\n",
    "str_input = str(input(\"Enter string: \"))\n",
    "count = 0\n",
    "\n",
    "for char in str_input:\n",
    "    if char in vowels:\n",
    "     count += 1\n",
    "\n",
    "print(f\"The vowel count for {str_input} is {count}.\")\n"
   ]
  },
  {
   "cell_type": "markdown",
   "metadata": {},
   "source": [
    "#### 3. Sum of Even Numbers: Create a program to find the sum of all even numbers in a list using a for loop.\n",
    "##### Example:\n",
    "##### Input: [2, 5, 8, 3]\n",
    "##### Output: 10"
   ]
  },
  {
   "cell_type": "code",
   "execution_count": 18,
   "metadata": {},
   "outputs": [
    {
     "name": "stdout",
     "output_type": "stream",
     "text": [
      "Sum of all even numbers in a list is: 16\n"
     ]
    }
   ],
   "source": [
    "even_sum = 0\n",
    "i = 2\n",
    "for i in [2, 5, 8, 6]:\n",
    "     if i % 2 == 0:\n",
    "          even_sum += i \n",
    "          i += 1 \n",
    "\n",
    "print(f\"Sum of all even numbers in a list is:\" ,even_sum)\n",
    "\n",
    "     "
   ]
  },
  {
   "cell_type": "markdown",
   "metadata": {},
   "source": [
    "#### 4. Create a program to find the largest and smallest numbers in a list using a for loop.\n",
    "#### Example:\n",
    "##### Input = [10, 20, 5, 8]\n",
    "##### Output:\n",
    "##### Largest = 20 , Smallest = 5"
   ]
  },
  {
   "cell_type": "code",
   "execution_count": 50,
   "metadata": {},
   "outputs": [
    {
     "name": "stdout",
     "output_type": "stream",
     "text": [
      "The Largest number is: 20\n",
      "The Smallest number is: 5\n"
     ]
    }
   ],
   "source": [
    "numbers = [10, 20, 5, 8]\n",
    "largest = numbers[0]\n",
    "smallest = numbers[0]\n",
    "\n",
    "for i in numbers:\n",
    "    if i > largest:  \n",
    "        largest = i\n",
    "    if i < smallest:  \n",
    "        smallest = i\n",
    "\n",
    "\n",
    "print(f\"The Largest number is: {largest}\")\n",
    "print(f\"The Smallest number is: {smallest}\")\n",
    "          "
   ]
  },
  {
   "cell_type": "markdown",
   "metadata": {},
   "source": [
    "#### 5. Write a program to calculate the sum of digits of a given number using a for loop.\n",
    "##### Example: Input = 1234\n",
    " Output = 10"
   ]
  },
  {
   "cell_type": "code",
   "execution_count": 73,
   "metadata": {},
   "outputs": [
    {
     "name": "stdout",
     "output_type": "stream",
     "text": [
      "Sum of given number 1234 is: 10\n"
     ]
    }
   ],
   "source": [
    "given_number = int(input(\"Enter numbers: \"))\n",
    "\n",
    "sum_of_numbers = 0\n",
    "\n",
    "\n",
    "for i in str(given_number):\n",
    "    sum_of_numbers += int(i)\n",
    "\n",
    "print(f\"Sum of given number {given_number} is:\",sum_of_numbers)"
   ]
  },
  {
   "cell_type": "markdown",
   "metadata": {},
   "source": [
    "#### 6. Write a program to reverse a given string using a for loop.\n",
    "##### Example: Input = \"Python\"\n",
    "Output = \"nohtyP\""
   ]
  },
  {
   "cell_type": "code",
   "execution_count": 77,
   "metadata": {},
   "outputs": [
    {
     "name": "stdout",
     "output_type": "stream",
     "text": [
      "The reverse of Python is nohtyP\n"
     ]
    }
   ],
   "source": [
    "given_string = str(input(\"Enter a word: \")) \n",
    "\n",
    "reverse_string = \"\" \n",
    "\n",
    "for char in given_string:\n",
    "     reverse_string = char + reverse_string\n",
    "\n",
    "print(f\"The reverse of {given_string} is {reverse_string}\")"
   ]
  },
  {
   "cell_type": "markdown",
   "metadata": {},
   "source": [
    "# Section 3: Functions\n"
   ]
  },
  {
   "cell_type": "markdown",
   "metadata": {},
   "source": [
    "#### 1. Factorial Function: Write a function factorial(n) that returns the factorial of a number using a for loop."
   ]
  },
  {
   "cell_type": "code",
   "execution_count": 102,
   "metadata": {},
   "outputs": [
    {
     "name": "stdout",
     "output_type": "stream",
     "text": [
      "The factorial of 2 is 2.\n"
     ]
    }
   ],
   "source": [
    "def factorial():\n",
    "    num = int(input(\"Enter a number to calculate its factorial: \"))\n",
    "    if num < 0:\n",
    "        print(\"Ineligible for negative numbers.\")\n",
    "        return num\n",
    "    result = 1\n",
    "    for i in range(1, num + 1):\n",
    "        result *= i\n",
    "    print(f\"The factorial of {num} is {result}.\")\n",
    "\n",
    "factorial()"
   ]
  },
  {
   "cell_type": "markdown",
   "metadata": {},
   "source": [
    "#### 2. Prime Check Function: Create a function is_prime(n) to check\n",
    "##### whether a number is prime.\n",
    "##### Example:\n",
    "##### Input: 7 \n",
    "Output: True"
   ]
  },
  {
   "cell_type": "code",
   "execution_count": 135,
   "metadata": {},
   "outputs": [
    {
     "name": "stdout",
     "output_type": "stream",
     "text": [
      "True\n"
     ]
    }
   ],
   "source": [
    "def is_prime(n):\n",
    "    if n <= 1:\n",
    "        return False\n",
    "\n",
    "    for i in range(2, int(n ** 0.5) + 1):\n",
    "        if n % i == 0:  \n",
    "            return False\n",
    "\n",
    "    return True  \n",
    "\n",
    "num = 7\n",
    "result = is_prime(num)\n",
    "print(result)  "
   ]
  },
  {
   "cell_type": "markdown",
   "metadata": {},
   "source": [
    "#### 3. Find Maximum in List: Write a function find_max(lst) to find and return the maximum value in a list.\n",
    "#### Example:\n",
    "##### Input: [1, 3, 7, 0]\n",
    "##### Output: 7"
   ]
  },
  {
   "cell_type": "code",
   "execution_count": 129,
   "metadata": {},
   "outputs": [
    {
     "name": "stdout",
     "output_type": "stream",
     "text": [
      "The maximum value is: 7\n"
     ]
    }
   ],
   "source": [
    "def find_max(lst):\n",
    "    max_num = lst[0]\n",
    "\n",
    "    for num in lst:\n",
    "        if num > max_num:\n",
    "            max_num = num\n",
    "\n",
    "    return max_num \n",
    "\n",
    "input_number = [1, 3, 7, 0]\n",
    "number = find_max(input_number)\n",
    "print(f\"The maximum value is: {number}\")"
   ]
  },
  {
   "cell_type": "markdown",
   "metadata": {},
   "source": [
    "#### 4. Write a function palindrome_check(string) that returns True if the given string is a palindrome, otherwise False.\n",
    "#### Example: Input = \"radar\"\n",
    "##### Output = True"
   ]
  },
  {
   "cell_type": "code",
   "execution_count": 128,
   "metadata": {},
   "outputs": [
    {
     "name": "stdout",
     "output_type": "stream",
     "text": [
      "True\n"
     ]
    }
   ],
   "source": [
    "def palindrome_check(string):\n",
    "    \n",
    "\n",
    "    if string == string[::-1]:\n",
    "        return True\n",
    "    else:\n",
    "        return False\n",
    "    \n",
    "input_string = \"radar\"\n",
    "result = palindrome_check(input_string)\n",
    "print(result)  \n"
   ]
  },
  {
   "cell_type": "markdown",
   "metadata": {},
   "source": [
    "#### 5. Write a function sum_of_squares(n) that returns the sum of squares of the first n natural numbers."
   ]
  },
  {
   "cell_type": "code",
   "execution_count": 4,
   "metadata": {},
   "outputs": [
    {
     "name": "stdout",
     "output_type": "stream",
     "text": [
      "The sum of squares of the first 5 natural numbers is: 55\n"
     ]
    }
   ],
   "source": [
    "def sum_of_squares(n):\n",
    "\n",
    "    total_sum = 0\n",
    "    for i in range(1, 6):\n",
    "        total_sum += i ** 2  \n",
    "    return total_sum \n",
    "\n",
    "n = input(\"Enter a number for sum of square: \")\n",
    "result = sum_of_squares(n)\n",
    "print(f\"The sum of squares of the first {n} natural numbers is: {result}\")"
   ]
  },
  {
   "cell_type": "markdown",
   "metadata": {},
   "source": [
    "#### 6. Write a function sum_of_squares(n) that returns the sum of squares of the first n natural numbers.\n",
    "Example: Input = 3, Output = 1^2 + 2^2 + 3^2 = 14"
   ]
  },
  {
   "cell_type": "code",
   "execution_count": 12,
   "metadata": {},
   "outputs": [
    {
     "name": "stdout",
     "output_type": "stream",
     "text": [
      "The sum of squares of the first 3 natural numbers is: 14\n"
     ]
    }
   ],
   "source": [
    "def sum_of_squares_n(n):\n",
    "    total_sum = 0\n",
    "   \n",
    "    for i in range(1, n + 1):  \n",
    "        total_sum += i ** 2\n",
    "    return total_sum\n",
    "\n",
    "\n",
    "number = 3\n",
    "result = sum_of_squares_n(number)\n",
    "\n",
    "\n",
    "print(f\"The sum of squares of the first {number} natural numbers is: {result}\")\n",
    "\n",
    "\n",
    "     "
   ]
  },
  {
   "cell_type": "markdown",
   "metadata": {},
   "source": [
    "#  Section 4: Classes"
   ]
  },
  {
   "cell_type": "markdown",
   "metadata": {},
   "source": [
    " #### 1. Rectangle Class:Define a class Rectangle with:\n",
    " ##### (a) Two attributes: length and width.\n",
    " ##### (b) A method area() to calculate the area.\n",
    " ##### (c) A method perimeter() to calculate the perimeter."
   ]
  },
  {
   "cell_type": "code",
   "execution_count": 1,
   "metadata": {},
   "outputs": [
    {
     "name": "stdout",
     "output_type": "stream",
     "text": [
      "Area: 50\n",
      "Perimeter: 30\n"
     ]
    }
   ],
   "source": [
    "class Rectangle:\n",
    "    def __init__(self, length, width):\n",
    "        self.length = length\n",
    "        self.width = width\n",
    "\n",
    "    def area(self):\n",
    "        return self.length * self.width\n",
    "\n",
    "    def perimeter(self):\n",
    "        return 2 * (self.length + self.width)\n",
    "\n",
    "rect = Rectangle(10, 5)\n",
    "\n",
    "print(f\"Area: {rect.area()}\")  \n",
    "print(f\"Perimeter: {rect.perimeter()}\")"
   ]
  },
  {
   "cell_type": "markdown",
   "metadata": {},
   "source": [
    "####  2. Student Class: Create a class Student with:\n",
    "##### (a) Attributes: name, roll_number, and marks.\n",
    "##### (b) A method display_details() to print the student's details.\n",
    "##### (c) A method is_passed() that returns True if marks ≥ 40, else False."
   ]
  },
  {
   "cell_type": "code",
   "execution_count": 12,
   "metadata": {},
   "outputs": [
    {
     "name": "stdout",
     "output_type": "stream",
     "text": [
      "Name is:Krish\n",
      "Roll no is:10\n",
      "Marks is:99\n"
     ]
    }
   ],
   "source": [
    "class student:\n",
    "     def put(self):\n",
    "          self.name = input(\"Enter your name: \")\n",
    "          self.roll = input(\"Enter your roll number: \")\n",
    "          self.marks = input(\"Enter your obtained marks: \")\n",
    "\n",
    "     def display(self):\n",
    "        print(f\"Name is:{self.name}\")\n",
    "        print(f\"Roll no is:{self.roll}\")\n",
    "        print(f\"Marks is:{self.marks}\")\n",
    "     \n",
    "std = student()\n",
    "\n",
    "std.put()\n",
    "std.display()\n"
   ]
  },
  {
   "cell_type": "markdown",
   "metadata": {},
   "source": [
    "#### 3. Define a class Circle with:\n",
    "#### (a) Attribute: radius.\n",
    "#### (b) Methods: area() to calculate the area, circumference() to calculate the circumference."
   ]
  },
  {
   "cell_type": "code",
   "execution_count": 16,
   "metadata": {},
   "outputs": [
    {
     "name": "stdout",
     "output_type": "stream",
     "text": [
      "Area: 78.53981633974483\n",
      "Circumference: 31.41592653589793\n"
     ]
    }
   ],
   "source": [
    "import math\n",
    "\n",
    "class Circle:\n",
    "    def __init__(self, radius):\n",
    "        self.radius = radius\n",
    "\n",
    "    def area(self):\n",
    "        return math.pi * (self.radius ** 2)\n",
    "\n",
    "    def circumference(self):\n",
    "        return 2 * math.pi * self.radius\n",
    "\n",
    "\n",
    "circle = Circle(5)\n",
    "print(\"Area:\", circle.area())\n",
    "print(\"Circumference:\", circle.circumference())\n",
    "\n",
    "\n",
    "\n"
   ]
  },
  {
   "cell_type": "markdown",
   "metadata": {},
   "source": [
    "#### 4. Create a class BankAccount with:\n",
    "##### Attributes: account_number, account_holder, balance.\n",
    "##### Methods:\n",
    "##### deposit(amount) to add money to the account.\n",
    "\n",
    "##### withdraw(amount) to subtract money (if sufficient balance is available).\n",
    "##### display_balance() to print the current balance.\n"
   ]
  },
  {
   "cell_type": "code",
   "execution_count": 17,
   "metadata": {},
   "outputs": [
    {
     "name": "stdout",
     "output_type": "stream",
     "text": [
      "Deposited Amount: 600, New Balance: 5600\n",
      "Withdrawl Amount: 200, New Balance: 5400\n",
      "Current Balance: 5400\n"
     ]
    }
   ],
   "source": [
    "class BankAccount:\n",
    "     def __init__(self, Account_number, Account_holder, balance = 0):\n",
    "          self.Account_number = Account_number\n",
    "          self.Account_holder = Account_holder\n",
    "          self.balance = balance \n",
    "\n",
    "     def deposit(self, amount):\n",
    "          if amount > 0:\n",
    "               self.balance += amount \n",
    "               print(f\"Deposited Amount: {amount}, New Balance: {self.balance}\")\n",
    "          else:\n",
    "               print(\"Error!\")\n",
    "\n",
    "     def withdraw(self, amount):\n",
    "          if amount > 0:\n",
    "               if self.balance > amount:\n",
    "                    self.balance -= amount\n",
    "                    print(f\"Withdrawl Amount: {amount}, New Balance: {self.balance}\")\n",
    "     \n",
    "     def display_balance(self):\n",
    "          print(f\"Current Balance: {self.balance}\")\n",
    "\n",
    "account = BankAccount(789456123, \"Krish\", 5000)\n",
    "account.deposit(600)\n",
    "account.withdraw(200)\n",
    "account.display_balance()  \n",
    "            \n",
    "          "
   ]
  },
  {
   "cell_type": "markdown",
   "metadata": {},
   "source": [
    "#### 5. A class Book with:\n",
    "##### Attributes: title, author, price.\n",
    "##### Methods:\n",
    "##### apply_discount(discount) to reduce the price by a given percentage.\n",
    "##### display_details() to print the book details."
   ]
  },
  {
   "cell_type": "code",
   "execution_count": 18,
   "metadata": {},
   "outputs": [
    {
     "name": "stdout",
     "output_type": "stream",
     "text": [
      "Title of the Book: A Thousand Splendid Suns\n",
      "Author of the Book: Khaled Hosseini\n",
      "Price of the Book: 1200\n",
      "Price after Applying discount: 960.0\n"
     ]
    }
   ],
   "source": [
    "class Book:\n",
    "     def __init__(self, title, author, price):\n",
    "          self.title = title\n",
    "          self.author = author\n",
    "          self.price = price\n",
    "\n",
    "     def apply_discount(self, discount):\n",
    "          if   0 <= discount <= 100:\n",
    "               self.price -= self.price * (discount / 100)\n",
    "               print(f\"Price after Applying discount: {self.price}\") \n",
    "          else:\n",
    "               print(\"Invalid Discount!.\")\n",
    "\n",
    "     def display_details(self):\n",
    "          print(f\"Title of the Book: {self.title}\")\n",
    "          print(f\"Author of the Book: {self.author}\")\n",
    "          print(f\"Price of the Book: {self.price}\")\n",
    "\n",
    "Details = Book(\"A Thousand Splendid Suns\", \"Khaled Hosseini\", 1200)\n",
    "Details.display_details()\n",
    "Details.apply_discount(20)\n"
   ]
  },
  {
   "cell_type": "markdown",
   "metadata": {},
   "source": [
    "####  6. Create a class Calculator with:\n",
    "##### A method add(a, b) to add two numbers.\n",
    "##### A method subtract(a, b) to subtract two numbers.\n",
    "##### A method multiply(a, b) to multiply two numbers.\n",
    "##### A method divide(a, b) to divide two numbers (handle division by zero gracefully)."
   ]
  },
  {
   "cell_type": "code",
   "execution_count": 19,
   "metadata": {},
   "outputs": [
    {
     "name": "stdout",
     "output_type": "stream",
     "text": [
      "Addition: 15\n",
      "Subtraction: 5\n",
      "Multiplication: 50\n",
      "Division: 2.0\n"
     ]
    }
   ],
   "source": [
    "class Calculator:\n",
    "     def add(self, a, b):\n",
    "         return a + b \n",
    "     \n",
    "     def subtract(self, a, b):\n",
    "          return a - b\n",
    "     \n",
    "     def multiply(self, a, b):\n",
    "          return a * b\n",
    "     \n",
    "     def divide(self, a, b):\n",
    "          if b != 0:\n",
    "               return a / b\n",
    "          else:\n",
    "               return \"Cannot divide by zero!\"\n",
    "          \n",
    "calc = Calculator()\n",
    "\n",
    "print(\"Addition:\", calc.add(5, 10))\n",
    "print(\"Subtraction:\", calc.subtract(10, 5))\n",
    "print(\"Multiplication:\", calc.multiply(10, 5))\n",
    "print(\"Division:\", calc.divide(10, 5))"
   ]
  },
  {
   "cell_type": "markdown",
   "metadata": {},
   "source": [
    "####  7. Write a class Person with:\n",
    "##### Attributes: name, age, gender.\n",
    "##### Method introduce() to print a message like: \"Hello, my name is [name], I am [age] years old, and I am a [gender].\"\n",
    "##### Create a subclass Employee that adds:\n",
    "##### Attribute: job_title.\n",
    "##### Override introduce() to include the job title."
   ]
  },
  {
   "cell_type": "code",
   "execution_count": 20,
   "metadata": {},
   "outputs": [
    {
     "name": "stdout",
     "output_type": "stream",
     "text": [
      "Hello, My name is Krish Ranabhat, I am 19 years old and I am a Male.\n",
      "Hello, my name is May, I am 23 years old, I am a Female and I work as a Data Analyst.\n"
     ]
    }
   ],
   "source": [
    "class Person:\n",
    "     def __init__(self, name, age, gender):\n",
    "          self.name = name\n",
    "          self.age = age\n",
    "          self.gender = gender\n",
    "\n",
    "     def introduce(self):\n",
    "          print(f\"Hello, My name is {self.name}, I am {self.age} years old and I am a {self.gender}.\")\n",
    "     \n",
    "class Employee(Person):\n",
    "    def __init__(self, name, age, gender, job_title):\n",
    "        super().__init__(name, age, gender) \n",
    "        self.job_title = job_title\n",
    "\n",
    "    def introduce(self):\n",
    "        print(f\"Hello, my name is {self.name}, I am {self.age} years old, I am a {self.gender} and I work as a {self.job_title}.\")\n",
    "\n",
    "human = Person(\"Krish Ranabhat\", 19, \"Male\")\n",
    "human.introduce()\n",
    "\n",
    "employee = Employee(\"May\", 23, \"Female\", \"Data Analyst\")\n",
    "employee.introduce()"
   ]
  },
  {
   "cell_type": "markdown",
   "metadata": {},
   "source": [
    "# Section 5: File Handling"
   ]
  },
  {
   "cell_type": "markdown",
   "metadata": {},
   "source": [
    "#### 1. File Creation and Writing: Write a Python script to:\n",
    "##### Create a file named data.txt.\n",
    "##### Write the numbers from 1 to 10 (each on a new line) to the file.\n",
    "##### Read the file and print its contents."
   ]
  },
  {
   "cell_type": "code",
   "execution_count": 1,
   "metadata": {},
   "outputs": [
    {
     "name": "stdout",
     "output_type": "stream",
     "text": [
      "1\n",
      "2\n",
      "3\n",
      "4\n",
      "5\n",
      "6\n",
      "7\n",
      "8\n",
      "9\n",
      "10\n",
      "\n"
     ]
    }
   ],
   "source": [
    "with open(\"data.txt\", \"w\") as file:\n",
    "    for number in range(1, 11):\n",
    "        file.writelines(f\"{number}\\n\")\n",
    "\n",
    "with open(\"data.txt\", \"r\") as file:\n",
    "    print(file.read())\n"
   ]
  },
  {
   "cell_type": "markdown",
   "metadata": {},
   "source": [
    "#### 2. Word Count in File: Write a program that reads a file named sample.txt, counts the number of words in  it,   and prints the result."
   ]
  },
  {
   "cell_type": "code",
   "execution_count": 10,
   "metadata": {},
   "outputs": [
    {
     "name": "stdout",
     "output_type": "stream",
     "text": [
      "The number of words in the file sample.txt is 3.\n"
     ]
    }
   ],
   "source": [
    "def count_words_in_file(file_name):\n",
    "        \n",
    "        with open(file_name, 'r') as file:\n",
    "            content = file.read()  \n",
    "            words = content.split()  \n",
    "            return len(words)  \n",
    "            \n",
    "file_name = \"sample.txt\"\n",
    "word_count = count_words_in_file(file_name)\n",
    "print(f\"The number of words in the file {file_name} is {word_count}.\")\n"
   ]
  },
  {
   "cell_type": "markdown",
   "metadata": {},
   "source": [
    "# Section 6: Error Handling\n",
    "  "
   ]
  },
  {
   "cell_type": "markdown",
   "metadata": {},
   "source": [
    "#### 1. Division with Error Handling: Write a program that takes two numbers as input and divides the first number by the second.\n",
    "##### Use try and except to handle the division by zero error."
   ]
  },
  {
   "cell_type": "code",
   "execution_count": 16,
   "metadata": {},
   "outputs": [
    {
     "name": "stdout",
     "output_type": "stream",
     "text": [
      "Runtime Error: division by zero\n",
      "Logical Result: 5.0\n"
     ]
    }
   ],
   "source": [
    "try:\n",
    "    result = 10 / 0  \n",
    "except ZeroDivisionError as e:\n",
    "    print(f\"Runtime Error: {e}\")\n",
    "\n",
    "a = int(input(\"Enter First Number: \"))\n",
    "b = int(input(\"Enter Second Number: \"))\n",
    "result = a / b  \n",
    "print(f\"Logical Result: {result}\") "
   ]
  },
  {
   "cell_type": "markdown",
   "metadata": {},
   "source": [
    "####  2. Integer Input Validation: Create a program that asks the user to input an integer.\n",
    "##### Use try, except, and else to handle invalid input.\n",
    "##### Example:\n",
    "##### (a) Input: abc\n",
    "##### (b) Output: \"Invalid input, please enter an integer.\""
   ]
  },
  {
   "cell_type": "code",
   "execution_count": 2,
   "metadata": {},
   "outputs": [
    {
     "name": "stdout",
     "output_type": "stream",
     "text": [
      "Invalid input, Please enter an integer.\n"
     ]
    }
   ],
   "source": [
    "def integer_input():\n",
    "     try:\n",
    "        int_input = int(input(\"Enter an integer: \"))\n",
    "\n",
    "     except ValueError:\n",
    "        print(\"Invalid input, Please enter an integer.\")\n",
    "     else:\n",
    "        print(f\"Your Entered Integer: {int_input}\")\n",
    "integer_input()\n"
   ]
  },
  {
   "cell_type": "markdown",
   "metadata": {},
   "source": [
    "####  3. File Not Found Error Handling: Write a script that:\n",
    "##### Opens a file named unknown.txt.\n",
    "##### Handles the FileNotFoundError gracefully and prints an appropriate message."
   ]
  },
  {
   "cell_type": "code",
   "execution_count": 2,
   "metadata": {},
   "outputs": [
    {
     "name": "stdout",
     "output_type": "stream",
     "text": [
      "Sorry! File 'unknown.txt' not found. Please try again.\n"
     ]
    }
   ],
   "source": [
    "def file_find():\n",
    "     try:\n",
    "          with open(\"unknown.txt\", \"r\") as file:\n",
    "               read = file.read()\n",
    "               print(read)\n",
    "     except FileNotFoundError:\n",
    "          print(\"Sorry! File 'unknown.txt' not found. Please try again.\")\n",
    "\n",
    "file_find()"
   ]
  }
 ],
 "metadata": {
  "kernelspec": {
   "display_name": "Python 3",
   "language": "python",
   "name": "python3"
  },
  "language_info": {
   "codemirror_mode": {
    "name": "ipython",
    "version": 3
   },
   "file_extension": ".py",
   "mimetype": "text/x-python",
   "name": "python",
   "nbconvert_exporter": "python",
   "pygments_lexer": "ipython3",
   "version": "3.13.1"
  }
 },
 "nbformat": 4,
 "nbformat_minor": 2
}
